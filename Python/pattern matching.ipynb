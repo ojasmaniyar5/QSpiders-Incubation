{
 "cells": [
  {
   "cell_type": "markdown",
   "id": "fc3b142d-0218-479e-86cb-c04559c05aa3",
   "metadata": {},
   "source": [
    "# Pattern matching"
   ]
  },
  {
   "cell_type": "code",
   "execution_count": 69,
   "id": "9720b8d2-8898-4f62-8151-dd9320aec992",
   "metadata": {},
   "outputs": [
    {
     "name": "stdout",
     "output_type": "stream",
     "text": [
      "* * * * * \n",
      "* * * * * \n",
      "* * * * * \n",
      "* * * * * \n",
      "* * * * * \n"
     ]
    }
   ],
   "source": [
    "for i in range (5):\n",
    "    for j in range(5):\n",
    "        print('*',end=' ')\n",
    "    print()"
   ]
  },
  {
   "cell_type": "markdown",
   "id": "fed700f9-6db7-4ae0-b67c-5623a3e49b68",
   "metadata": {},
   "source": [
    "# primary diagonal "
   ]
  },
  {
   "cell_type": "code",
   "execution_count": 72,
   "id": "f10fdab7-b853-4e58-aa8f-3cd5f8ca02fb",
   "metadata": {},
   "outputs": [
    {
     "name": "stdout",
     "output_type": "stream",
     "text": [
      "*         \n",
      "  *       \n",
      "    *     \n",
      "      *   \n",
      "        * \n"
     ]
    }
   ],
   "source": [
    "for i in range(5):\n",
    "    for j in range (5):\n",
    "        if i==j:\n",
    "            print('*',end=' ')\n",
    "        else:\n",
    "            print(' ',end=' ')\n",
    "    \n",
    "    print()"
   ]
  },
  {
   "cell_type": "code",
   "execution_count": 55,
   "id": "1cbf0579-6149-417c-89af-f82b80577c9c",
   "metadata": {},
   "outputs": [
    {
     "name": "stdout",
     "output_type": "stream",
     "text": [
      "*         \n",
      "* *       \n",
      "* * *     \n",
      "* * * *   \n",
      "* * * * * \n"
     ]
    }
   ],
   "source": [
    "for i in range(5):\n",
    "    for j in range (5):\n",
    "        if i>=j:\n",
    "            print('*',end=' ')\n",
    "        else:\n",
    "            print(' ',end=' ')\n",
    "    \n",
    "    print()"
   ]
  },
  {
   "cell_type": "code",
   "execution_count": 69,
   "id": "bb15963d-8ada-42d7-81b3-e8b4d231d64a",
   "metadata": {},
   "outputs": [
    {
     "name": "stdout",
     "output_type": "stream",
     "text": [
      "* * * * * \n",
      "  * * * * \n",
      "    * * * \n",
      "      * * \n",
      "        * \n"
     ]
    }
   ],
   "source": [
    "for i in range(5):\n",
    "    for j in range (5):\n",
    "        if i<=j:\n",
    "            print('*',end=' ')\n",
    "        else:\n",
    "            print(' ',end=' ')\n",
    "    \n",
    "    print()"
   ]
  },
  {
   "cell_type": "markdown",
   "id": "83233148-1520-4e2e-958d-359cc195ce35",
   "metadata": {},
   "source": [
    "# seconadry diagonal\n"
   ]
  },
  {
   "cell_type": "code",
   "execution_count": 81,
   "id": "4605ac77-5cb6-4986-9e7f-9bd79a7b867e",
   "metadata": {},
   "outputs": [
    {
     "name": "stdout",
     "output_type": "stream",
     "text": [
      "        * \n",
      "      *   \n",
      "    *     \n",
      "  *       \n",
      "*         \n"
     ]
    }
   ],
   "source": [
    "n=5\n",
    "for i in range(1,n+1):\n",
    "    for j in range (1,n+1):\n",
    "        if i+j==n+1:\n",
    "            print('*',end=' ')\n",
    "        else:\n",
    "            print(' ',end=' ')\n",
    "    \n",
    "    print()"
   ]
  },
  {
   "cell_type": "code",
   "execution_count": 83,
   "id": "f425acb6-d4fd-4fe4-91b3-2b115ac96286",
   "metadata": {},
   "outputs": [
    {
     "name": "stdout",
     "output_type": "stream",
     "text": [
      "* * * * * \n",
      "* * * *   \n",
      "* * *     \n",
      "* *       \n",
      "*         \n"
     ]
    }
   ],
   "source": [
    "n=5\n",
    "for i in range(1,n+1):\n",
    "    for j in range (1,n+1):\n",
    "        if i+j<=n+1:\n",
    "            print('*',end=' ')\n",
    "        else:\n",
    "            print(' ',end=' ')\n",
    "    \n",
    "    print()"
   ]
  },
  {
   "cell_type": "code",
   "execution_count": 1,
   "id": "6b41c654-1892-4647-9b84-4d5ebad99400",
   "metadata": {},
   "outputs": [
    {
     "name": "stdout",
     "output_type": "stream",
     "text": [
      "        * \n",
      "      * * \n",
      "    * * * \n",
      "  * * * * \n",
      "* * * * * \n"
     ]
    }
   ],
   "source": [
    "n=5\n",
    "for i in range(1,n+1):\n",
    "    for j in range (1,n+1):\n",
    "        if i+j>=n+1:\n",
    "            print('*',end=' ')\n",
    "        else:\n",
    "            print(' ',end=' ')\n",
    "    \n",
    "    print()"
   ]
  },
  {
   "cell_type": "code",
   "execution_count": 24,
   "id": "8d4406ed-74c7-4be3-aa65-d18820aa0bdf",
   "metadata": {},
   "outputs": [
    {
     "name": "stdout",
     "output_type": "stream",
     "text": [
      "*       * \n",
      "  *   *   \n",
      "    *     \n",
      "  *   *   \n",
      "*       * \n"
     ]
    }
   ],
   "source": [
    "n=5\n",
    "\n",
    "for i in range(1,n+1):\n",
    "    for j in range(1,n+1):\n",
    "        if i ==j or i+j == n+1:\n",
    "            print(\"*\",end=\" \")\n",
    "        else:\n",
    "            print(' ',end=\" \")\n",
    "    print()"
   ]
  },
  {
   "cell_type": "markdown",
   "id": "577cac31-39fe-4171-ae63-ae3284b943b5",
   "metadata": {},
   "source": [
    "# hollow pattern"
   ]
  },
  {
   "cell_type": "code",
   "execution_count": 32,
   "id": "2eac6c57-cdea-4448-b887-162ec48c46ed",
   "metadata": {},
   "outputs": [
    {
     "name": "stdout",
     "output_type": "stream",
     "text": [
      "* * * * * * \n",
      "*         * \n",
      "*         * \n",
      "*         * \n",
      "*         * \n",
      "* * * * * * \n"
     ]
    }
   ],
   "source": [
    "n=6\n",
    "\n",
    "for i in range(1,n+1):\n",
    "    for j in range(1,n+1):\n",
    "        if i==1 or i==n or j==1 or j==n:\n",
    "            print(\"*\",end=\" \")\n",
    "        else:\n",
    "            print(' ',end=\" \")\n",
    "    print()"
   ]
  },
  {
   "cell_type": "code",
   "execution_count": 40,
   "id": "60a5ff56-a936-4ef3-931b-df5f155def41",
   "metadata": {},
   "outputs": [
    {
     "name": "stdout",
     "output_type": "stream",
     "text": [
      "* * * * * \n",
      "* *   * * \n",
      "*   *   * \n",
      "* *   * * \n",
      "* * * * * \n"
     ]
    }
   ],
   "source": [
    "n=5\n",
    "\n",
    "for i in range(1,n+1):\n",
    "    for j in range(1,n+1):\n",
    "        if i==1 or i==n or j==1 or j==n or i==j or i+j==n+1:\n",
    "            print(\"*\",end=\" \")\n",
    "        else:\n",
    "            print(' ',end=\" \")\n",
    "    print()"
   ]
  },
  {
   "cell_type": "code",
   "execution_count": 63,
   "id": "72bcbc5d-0baa-42d0-9768-df9231b3568b",
   "metadata": {},
   "outputs": [
    {
     "name": "stdout",
     "output_type": "stream",
     "text": [
      "* * * * * * * * * \n",
      "* *     *     * * \n",
      "*   *   *   *   * \n",
      "*     * * *     * \n",
      "* * * * * * * * * \n",
      "*     * * *     * \n",
      "*   *   *   *   * \n",
      "* *     *     * * \n",
      "* * * * * * * * * \n"
     ]
    }
   ],
   "source": [
    "n=9\n",
    "\n",
    "for i in range(1,n+1):\n",
    "    for j in range(1,n+1):\n",
    "        if i ==1 or i==n or i==5 or j==1 or j==n or j==5 or  i+j==n+1 or i==j:\n",
    "            print(\"*\",end=\" \")\n",
    "        else:\n",
    "            print(' ',end=\" \")\n",
    "    print()"
   ]
  },
  {
   "cell_type": "raw",
   "id": "f739a127-ddf1-413e-ba88-66e681fa0aae",
   "metadata": {},
   "source": []
  },
  {
   "cell_type": "code",
   "execution_count": null,
   "id": "f8be1e36-814f-4671-bffa-cb03f7cc9355",
   "metadata": {},
   "outputs": [],
   "source": []
  }
 ],
 "metadata": {
  "kernelspec": {
   "display_name": "Python [conda env:base] *",
   "language": "python",
   "name": "conda-base-py"
  },
  "language_info": {
   "codemirror_mode": {
    "name": "ipython",
    "version": 3
   },
   "file_extension": ".py",
   "mimetype": "text/x-python",
   "name": "python",
   "nbconvert_exporter": "python",
   "pygments_lexer": "ipython3",
   "version": "3.12.7"
  }
 },
 "nbformat": 4,
 "nbformat_minor": 5
}
